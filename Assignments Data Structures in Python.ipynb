{
 "cells": [
  {
   "cell_type": "markdown",
   "id": "dff12b26",
   "metadata": {},
   "source": [
    " ###  Assignments Data Structures in Python"
   ]
  },
  {
   "cell_type": "markdown",
   "id": "1b787a7f",
   "metadata": {},
   "source": [
    "Q1. Write a code to reverse a string."
   ]
  },
  {
   "cell_type": "code",
   "execution_count": 5,
   "id": "00f7bb90",
   "metadata": {},
   "outputs": [
    {
     "name": "stdout",
     "output_type": "stream",
     "text": [
      "Original String: Hello, World!\n",
      "Reversed String: !dlroW ,olleH\n"
     ]
    }
   ],
   "source": [
    "# Input string\n",
    "string = \"Hello, World!\"\n",
    "\n",
    "# Reverse the string\n",
    "reversed_string = string[::-1]\n",
    "\n",
    "# Output the result\n",
    "print(\"Original String:\", string)\n",
    "print(\"Reversed String:\", reversed_string)\n"
   ]
  },
  {
   "cell_type": "markdown",
   "id": "42689d60",
   "metadata": {},
   "source": [
    "Q2. Write a code to count the no. of vowels in a string."
   ]
  },
  {
   "cell_type": "code",
   "execution_count": 6,
   "id": "a5ad4667",
   "metadata": {},
   "outputs": [
    {
     "name": "stdout",
     "output_type": "stream",
     "text": [
      "Original String: Count the vowels in this sentence!\n",
      "Number of vowels: 10\n"
     ]
    }
   ],
   "source": [
    "# Input string\n",
    "string = \"Count the vowels in this sentence!\"\n",
    "\n",
    "# Initialize a counter\n",
    "vowel_count = 0\n",
    "\n",
    "# Define vowels\n",
    "vowels = \"aeiouAEIOU\"\n",
    "\n",
    "# Count vowels in the string\n",
    "for char in string:\n",
    "    if char in vowels:\n",
    "        vowel_count += 1\n",
    "\n",
    "# Output the result\n",
    "print(\"Original String:\", string)\n",
    "print(\"Number of vowels:\", vowel_count)\n"
   ]
  },
  {
   "cell_type": "markdown",
   "id": "042c6f40",
   "metadata": {},
   "source": [
    "Q3. Write a code to check if a given string is a palindrome or not."
   ]
  },
  {
   "cell_type": "code",
   "execution_count": 7,
   "id": "4c6ef4e7",
   "metadata": {},
   "outputs": [
    {
     "name": "stdout",
     "output_type": "stream",
     "text": [
      "Enter a string: \n",
      "'' is a palindrome.\n"
     ]
    }
   ],
   "source": [
    "# Input string\n",
    "string = input(\"Enter a string: \")\n",
    "\n",
    "# Remove spaces and convert to lowercase for uniformity\n",
    "processed_string = string.replace(\" \", \"\").lower()\n",
    "\n",
    "# Check if the string is equal to its reverse\n",
    "if processed_string == processed_string[::-1]:\n",
    "    print(f\"'{string}' is a palindrome.\")\n",
    "else:\n",
    "    print(f\"'{string}' is not a palindrome.\")\n"
   ]
  },
  {
   "cell_type": "markdown",
   "id": "b9aa5217",
   "metadata": {},
   "source": [
    "Q4. Write a code to check if two given strings are anagrams of each other."
   ]
  },
  {
   "cell_type": "code",
   "execution_count": 8,
   "id": "f8c4aa04",
   "metadata": {},
   "outputs": [
    {
     "name": "stdout",
     "output_type": "stream",
     "text": [
      "Enter the first string: \n",
      "Enter the second string: \n",
      "'' and '' are anagrams of each other.\n"
     ]
    }
   ],
   "source": [
    "# Input two strings\n",
    "string1 = input(\"Enter the first string: \")\n",
    "string2 = input(\"Enter the second string: \")\n",
    "\n",
    "# Remove spaces and convert to lowercase for uniformity\n",
    "processed_string1 = string1.replace(\" \", \"\").lower()\n",
    "processed_string2 = string2.replace(\" \", \"\").lower()\n",
    "\n",
    "# Check if sorted versions of the strings are equal\n",
    "if sorted(processed_string1) == sorted(processed_string2):\n",
    "    print(f\"'{string1}' and '{string2}' are anagrams of each other.\")\n",
    "else:\n",
    "    print(f\"'{string1}' and '{string2}' are not anagrams of each other.\")\n"
   ]
  },
  {
   "cell_type": "markdown",
   "id": "3df9fc17",
   "metadata": {},
   "source": [
    "Q5. Write a code to find all occurences of a given substring within another string."
   ]
  },
  {
   "cell_type": "code",
   "execution_count": 9,
   "id": "7fd2ff83",
   "metadata": {},
   "outputs": [
    {
     "name": "stdout",
     "output_type": "stream",
     "text": [
      "Enter the main string: \n",
      "Enter the substring to find: \n",
      "The substring '' is not found in the main string.\n"
     ]
    }
   ],
   "source": [
    "# Input the main string and the substring\n",
    "main_string = input(\"Enter the main string: \")\n",
    "substring = input(\"Enter the substring to find: \")\n",
    "\n",
    "# Initialize an empty list to store the starting indices\n",
    "indices = []\n",
    "\n",
    "# Loop through the main string to find all occurrences\n",
    "start = 0\n",
    "while start < len(main_string):\n",
    "    # Find the next occurrence of the substring\n",
    "    start = main_string.find(substring, start)\n",
    "    if start == -1:  # If no more occurrences are found, break\n",
    "        break\n",
    "    indices.append(start)  # Add the starting index to the list\n",
    "    start += 1  # Move to the next character to find further occurrences\n",
    "\n",
    "# Output the results\n",
    "if indices:\n",
    "    print(f\"The substring '{substring}' is found at indices: {indices}\")\n",
    "else:\n",
    "    print(f\"The substring '{substring}' is not found in the main string.\")\n"
   ]
  },
  {
   "cell_type": "markdown",
   "id": "a62a660c",
   "metadata": {},
   "source": [
    "Q6 Write a code to perform basic string compression using the counts of repeated characters."
   ]
  },
  {
   "cell_type": "code",
   "execution_count": 10,
   "id": "e44a9dd0",
   "metadata": {},
   "outputs": [
    {
     "name": "stdout",
     "output_type": "stream",
     "text": [
      "Enter the string to compress: \n",
      "Compressed string: \n"
     ]
    }
   ],
   "source": [
    "def compress_string(s):\n",
    "    # Initialize an empty string to store the compressed result\n",
    "    compressed = \"\"\n",
    "    count = 1  # Counter for repeated characters\n",
    "\n",
    "    # Loop through the string\n",
    "    for i in range(1, len(s)):\n",
    "        if s[i] == s[i - 1]:  # Check if the current character is the same as the previous one\n",
    "            count += 1\n",
    "        else:\n",
    "            # Append the character and its count to the compressed string\n",
    "            compressed += s[i - 1] + str(count)\n",
    "            count = 1  # Reset the count for the next character\n",
    "    \n",
    "    # Append the last character and its count\n",
    "    if s:\n",
    "        compressed += s[-1] + str(count)\n",
    "    \n",
    "    # Return the compressed string if it is shorter than the original, otherwise return the original\n",
    "    return compressed if len(compressed) < len(s) else s\n",
    "\n",
    "# Example usage\n",
    "input_string = input(\"Enter the string to compress: \")\n",
    "compressed = compress_string(input_string)\n",
    "print(\"Compressed string:\", compressed)\n"
   ]
  },
  {
   "cell_type": "markdown",
   "id": "567befa0",
   "metadata": {},
   "source": [
    "Q7 Write a code to determine if a string has all unique characters"
   ]
  },
  {
   "cell_type": "code",
   "execution_count": 11,
   "id": "952fd243",
   "metadata": {},
   "outputs": [
    {
     "name": "stdout",
     "output_type": "stream",
     "text": [
      "Enter the string: \n",
      "The string has all unique characters.\n"
     ]
    }
   ],
   "source": [
    "def has_unique_characters(s):\n",
    "    # Use a set to track characters seen so far\n",
    "    seen_characters = set()\n",
    "\n",
    "    for char in s:\n",
    "        if char in seen_characters:  # If the character is already in the set, it's not unique\n",
    "            return False\n",
    "        seen_characters.add(char)  # Add the character to the set\n",
    "\n",
    "    return True  # If the loop completes, all characters are unique\n",
    "\n",
    "# Example usage\n",
    "string = input(\"Enter the string: \")\n",
    "if has_unique_characters(string):\n",
    "    print(\"The string has all unique characters.\")\n",
    "else:\n",
    "    print(\"The string does not have all unique characters.\")\n"
   ]
  },
  {
   "cell_type": "markdown",
   "id": "1e6dedfb",
   "metadata": {},
   "source": [
    "Q8 Write a code to convert a given string to uppercase or lowercase"
   ]
  },
  {
   "cell_type": "code",
   "execution_count": 12,
   "id": "db23f96b",
   "metadata": {},
   "outputs": [
    {
     "name": "stdout",
     "output_type": "stream",
     "text": [
      "Enter the string: \n",
      "Do you want to convert it to uppercase (U) or lowercase (L)? \n",
      "Invalid choice. Please enter 'U' for uppercase or 'L' for lowercase.\n"
     ]
    }
   ],
   "source": [
    "# Function to convert a string to uppercase or lowercase\n",
    "def convert_case(s, to_upper=True):\n",
    "    if to_upper:\n",
    "        return s.upper()  # Convert to uppercase\n",
    "    else:\n",
    "        return s.lower()  # Convert to lowercase\n",
    "\n",
    "# Example usage\n",
    "string = input(\"Enter the string: \")\n",
    "choice = input(\"Do you want to convert it to uppercase (U) or lowercase (L)? \").strip().upper()\n",
    "\n",
    "if choice == 'U':\n",
    "    result = convert_case(string, to_upper=True)\n",
    "    print(\"String in uppercase:\", result)\n",
    "elif choice == 'L':\n",
    "    result = convert_case(string, to_upper=False)\n",
    "    print(\"String in lowercase:\", result)\n",
    "else:\n",
    "    print(\"Invalid choice. Please enter 'U' for uppercase or 'L' for lowercase.\")\n"
   ]
  },
  {
   "cell_type": "markdown",
   "id": "a284088b",
   "metadata": {},
   "source": [
    "Q 9 Write a code to count the number of words in a string"
   ]
  },
  {
   "cell_type": "code",
   "execution_count": 13,
   "id": "616be0c5",
   "metadata": {},
   "outputs": [
    {
     "name": "stdout",
     "output_type": "stream",
     "text": [
      "Original String: This is a sample string to count the number of words.\n",
      "Number of words: 11\n"
     ]
    }
   ],
   "source": [
    "# Input string\n",
    "string = \"This is a sample string to count the number of words.\"\n",
    "\n",
    "# Split the string into words based on spaces\n",
    "words = string.split()\n",
    "\n",
    "# Count the number of words\n",
    "word_count = len(words)\n",
    "\n",
    "# Display the result\n",
    "print(\"Original String:\", string)\n",
    "print(\"Number of words:\", word_count)\n"
   ]
  },
  {
   "cell_type": "markdown",
   "id": "a965ed79",
   "metadata": {},
   "source": [
    "Q 10 Write a code to concatenate two strings without using the + operator"
   ]
  },
  {
   "cell_type": "code",
   "execution_count": 14,
   "id": "09dab72d",
   "metadata": {},
   "outputs": [
    {
     "name": "stdout",
     "output_type": "stream",
     "text": [
      "Concatenated String: HelloWorld\n"
     ]
    }
   ],
   "source": [
    "# Strings to concatenate\n",
    "string1 = \"Hello\"\n",
    "string2 = \"World\"\n",
    "\n",
    "# Concatenate using join method\n",
    "result = ''.join([string1, string2])\n",
    "\n",
    "# Display the result\n",
    "print(\"Concatenated String:\", result)\n"
   ]
  },
  {
   "cell_type": "markdown",
   "id": "61259336",
   "metadata": {},
   "source": [
    "Q 11 Write a code to remove all occurrences of a specific element from a list"
   ]
  },
  {
   "cell_type": "code",
   "execution_count": 15,
   "id": "523567c1",
   "metadata": {},
   "outputs": [
    {
     "name": "stdout",
     "output_type": "stream",
     "text": [
      "Updated List: [1, 3, 4, 5, 6]\n"
     ]
    }
   ],
   "source": [
    "# Sample list\n",
    "my_list = [1, 2, 3, 4, 2, 5, 2, 6]\n",
    "\n",
    "# Element to remove\n",
    "element_to_remove = 2\n",
    "\n",
    "# Remove all occurrences of the element\n",
    "my_list = [item for item in my_list if item != element_to_remove]\n",
    "\n",
    "# Display the updated list\n",
    "print(\"Updated List:\", my_list)\n"
   ]
  },
  {
   "cell_type": "markdown",
   "id": "34b9e65c",
   "metadata": {},
   "source": [
    "Q 12 Implement a code to find the second largest number in a given list of integers "
   ]
  },
  {
   "cell_type": "code",
   "execution_count": 16,
   "id": "ee4f7197",
   "metadata": {},
   "outputs": [
    {
     "name": "stdout",
     "output_type": "stream",
     "text": [
      "Second largest number: 45\n"
     ]
    }
   ],
   "source": [
    "# Sample list of integers\n",
    "my_list = [10, 20, 4, 45, 99, 99, 20]\n",
    "\n",
    "# Remove duplicates by converting the list to a set\n",
    "unique_list = list(set(my_list))\n",
    "\n",
    "# Sort the list in descending order\n",
    "unique_list.sort(reverse=True)\n",
    "\n",
    "# Get the second largest number\n",
    "second_largest = unique_list[1] if len(unique_list) > 1 else None\n",
    "\n",
    "# Display the second largest number\n",
    "print(\"Second largest number:\", second_largest)\n"
   ]
  },
  {
   "cell_type": "markdown",
   "id": "6058b4b4",
   "metadata": {},
   "source": [
    "Q 13 Create a code to count the occurrences of each element in a list and return a dictionary with elements as\n",
    "keys and their counts as values"
   ]
  },
  {
   "cell_type": "code",
   "execution_count": 17,
   "id": "5897cb0b",
   "metadata": {},
   "outputs": [
    {
     "name": "stdout",
     "output_type": "stream",
     "text": [
      "Element counts: {'apple': 3, 'banana': 1, 'orange': 2}\n"
     ]
    }
   ],
   "source": [
    "# Sample list\n",
    "my_list = ['apple', 'banana', 'orange', 'apple', 'orange', 'apple']\n",
    "\n",
    "# Create an empty dictionary to store counts\n",
    "count_dict = {}\n",
    "\n",
    "# Loop through the list and count occurrences\n",
    "for item in my_list:\n",
    "    if item in count_dict:\n",
    "        count_dict[item] += 1\n",
    "    else:\n",
    "        count_dict[item] = 1\n",
    "\n",
    "# Display the dictionary with counts\n",
    "print(\"Element counts:\", count_dict)\n"
   ]
  },
  {
   "cell_type": "markdown",
   "id": "722db90f",
   "metadata": {},
   "source": [
    "Q 14 Write a code to reverse a list in-place without using any built-in reverse functions"
   ]
  },
  {
   "cell_type": "code",
   "execution_count": 18,
   "id": "a69250c1",
   "metadata": {},
   "outputs": [
    {
     "name": "stdout",
     "output_type": "stream",
     "text": [
      "Reversed list: [5, 4, 3, 2, 1]\n"
     ]
    }
   ],
   "source": [
    "# Sample list\n",
    "my_list = [1, 2, 3, 4, 5]\n",
    "\n",
    "# Reverse the list in-place using a loop\n",
    "start = 0\n",
    "end = len(my_list) - 1\n",
    "\n",
    "while start < end:\n",
    "    # Swap elements at start and end indices\n",
    "    my_list[start], my_list[end] = my_list[end], my_list[start]\n",
    "    \n",
    "    # Move the pointers\n",
    "    start += 1\n",
    "    end -= 1\n",
    "\n",
    "# Display the reversed list\n",
    "print(\"Reversed list:\", my_list)\n"
   ]
  },
  {
   "cell_type": "markdown",
   "id": "de42c43d",
   "metadata": {},
   "source": [
    "Q 15 Implement a code to find and remove duplicates from a list while preserving the original order of\n",
    "elements"
   ]
  },
  {
   "cell_type": "code",
   "execution_count": 19,
   "id": "2fd91a88",
   "metadata": {},
   "outputs": [
    {
     "name": "stdout",
     "output_type": "stream",
     "text": [
      "List without duplicates: [1, 2, 3, 4, 5, 6]\n"
     ]
    }
   ],
   "source": [
    "# Sample list with duplicates\n",
    "my_list = [1, 2, 3, 2, 4, 5, 3, 6, 4]\n",
    "\n",
    "# Create an empty set to track seen elements\n",
    "seen = set()\n",
    "\n",
    "# Create a new list to store the result without duplicates\n",
    "result = []\n",
    "\n",
    "# Iterate over the original list\n",
    "for item in my_list:\n",
    "    if item not in seen:\n",
    "        result.append(item)  # Add the item to the result list\n",
    "        seen.add(item)  # Mark the item as seen\n",
    "\n",
    "# Display the list without duplicates\n",
    "print(\"List without duplicates:\", result)\n"
   ]
  },
  {
   "cell_type": "markdown",
   "id": "09a157cf",
   "metadata": {},
   "source": [
    "Q16 Create a code to check if a given list is sorted (either in ascending or descending order) or not"
   ]
  },
  {
   "cell_type": "code",
   "execution_count": 21,
   "id": "ad9bb918",
   "metadata": {},
   "outputs": [
    {
     "name": "stdout",
     "output_type": "stream",
     "text": [
      "Ascending Order\n",
      "Descending Order\n",
      "Not Sorted\n"
     ]
    }
   ],
   "source": [
    "def is_sorted(lst):\n",
    "    if lst == sorted(lst):\n",
    "        return \"Ascending Order\"\n",
    "    elif lst == sorted(lst, reverse=True):\n",
    "        return \"Descending Order\"\n",
    "    else:\n",
    "        return \"Not Sorted\"\n",
    "\n",
    "# Example usage\n",
    "input_list = [1, 2, 3, 4, 5]\n",
    "print(is_sorted(input_list))  # Output: Ascending Order\n",
    "\n",
    "input_list = [9, 7, 5, 3, 1]\n",
    "print(is_sorted(input_list))  # Output: Descending Order\n",
    "\n",
    "input_list = [3, 1, 4, 2, 5]\n",
    "print(is_sorted(input_list))  # Output: Not Sorted\n"
   ]
  },
  {
   "cell_type": "markdown",
   "id": "726d448d",
   "metadata": {},
   "source": [
    "Q17 Write a code to merge two sorted lists into a single sorted list"
   ]
  },
  {
   "cell_type": "code",
   "execution_count": 22,
   "id": "302c8fc7",
   "metadata": {},
   "outputs": [
    {
     "name": "stdout",
     "output_type": "stream",
     "text": [
      "Merged Sorted List: [1, 2, 3, 4, 5, 6, 7, 8]\n"
     ]
    }
   ],
   "source": [
    "def merge_sorted_lists(list1, list2):\n",
    "    merged_list = []\n",
    "    i, j = 0, 0\n",
    "\n",
    "    # Merge both lists while elements remain\n",
    "    while i < len(list1) and j < len(list2):\n",
    "        if list1[i] < list2[j]:\n",
    "            merged_list.append(list1[i])\n",
    "            i += 1\n",
    "        else:\n",
    "            merged_list.append(list2[j])\n",
    "            j += 1\n",
    "\n",
    "    # Add remaining elements from list1 (if any)\n",
    "    while i < len(list1):\n",
    "        merged_list.append(list1[i])\n",
    "        i += 1\n",
    "\n",
    "    # Add remaining elements from list2 (if any)\n",
    "    while j < len(list2):\n",
    "        merged_list.append(list2[j])\n",
    "        j += 1\n",
    "\n",
    "    return merged_list\n",
    "\n",
    "# Example usage\n",
    "list1 = [1, 3, 5, 7]\n",
    "list2 = [2, 4, 6, 8]\n",
    "merged_list = merge_sorted_lists(list1, list2)\n",
    "print(\"Merged Sorted List:\", merged_list)\n"
   ]
  },
  {
   "cell_type": "markdown",
   "id": "bb8920ad",
   "metadata": {},
   "source": [
    "Q18 Implement a code to find the intersection of two given lists"
   ]
  },
  {
   "cell_type": "code",
   "execution_count": 23,
   "id": "de0db6bd",
   "metadata": {},
   "outputs": [
    {
     "name": "stdout",
     "output_type": "stream",
     "text": [
      "Intersection of lists: [4, 5, 6]\n"
     ]
    }
   ],
   "source": [
    "def list_intersection(list1, list2):\n",
    "    return list(set(list1) & set(list2))\n",
    "\n",
    "# Example usage\n",
    "list1 = [1, 2, 3, 4, 5, 6]\n",
    "list2 = [4, 5, 6, 7, 8, 9]\n",
    "intersection = list_intersection(list1, list2)\n",
    "print(\"Intersection of lists:\", intersection)\n"
   ]
  },
  {
   "cell_type": "markdown",
   "id": "0a2288d9",
   "metadata": {},
   "source": [
    "Q19 Create a code to find the union of two lists without duplicates"
   ]
  },
  {
   "cell_type": "code",
   "execution_count": 24,
   "id": "fcfa2fc7",
   "metadata": {},
   "outputs": [
    {
     "name": "stdout",
     "output_type": "stream",
     "text": [
      "Union of lists: [1, 2, 3, 4, 5, 6, 7, 8]\n"
     ]
    }
   ],
   "source": [
    "def list_union(list1, list2):\n",
    "    return list(set(list1) | set(list2))\n",
    "\n",
    "# Example usage\n",
    "list1 = [1, 2, 3, 4, 5]\n",
    "list2 = [4, 5, 6, 7, 8]\n",
    "union_list = list_union(list1, list2)\n",
    "print(\"Union of lists:\", union_list)\n"
   ]
  },
  {
   "cell_type": "code",
   "execution_count": 25,
   "id": "22a301d5",
   "metadata": {},
   "outputs": [
    {
     "name": "stdout",
     "output_type": "stream",
     "text": [
      "Ordered Union: [1, 2, 3, 4, 5, 6, 7, 8]\n"
     ]
    }
   ],
   "source": [
    "# Alternative Approach (Preserving Order)\n",
    "# If you want to preserve the original order, use this method:\n",
    "def ordered_union(list1, list2):\n",
    "    unique_items = set()\n",
    "    result = []\n",
    "\n",
    "    for item in list1 + list2:\n",
    "        if item not in unique_items:\n",
    "            result.append(item)\n",
    "            unique_items.add(item)\n",
    "\n",
    "    return result\n",
    "\n",
    "# Example usage\n",
    "union_list = ordered_union(list1, list2)\n",
    "print(\"Ordered Union:\", union_list)\n"
   ]
  },
  {
   "cell_type": "markdown",
   "id": "b643e58c",
   "metadata": {},
   "source": [
    "Q20 Write a code to shuffle a given list randomly without using any built-in shuffle functions"
   ]
  },
  {
   "cell_type": "code",
   "execution_count": 26,
   "id": "5b92c99c",
   "metadata": {},
   "outputs": [
    {
     "name": "stdout",
     "output_type": "stream",
     "text": [
      "Shuffled List: [3, 7, 4, 5, 2, 6, 1, 9, 8]\n"
     ]
    }
   ],
   "source": [
    "import random\n",
    "\n",
    "def shuffle_list(lst):\n",
    "    n = len(lst)\n",
    "    for i in range(n - 1, 0, -1):\n",
    "        j = random.randint(0, i)  # Generate a random index\n",
    "        lst[i], lst[j] = lst[j], lst[i]  # Swap elements\n",
    "    return lst\n",
    "\n",
    "# Example usage\n",
    "input_list = [1, 2, 3, 4, 5, 6, 7, 8, 9]\n",
    "shuffled_list = shuffle_list(input_list[:])  # Use a copy to keep the original intact\n",
    "print(\"Shuffled List:\", shuffled_list)\n"
   ]
  },
  {
   "cell_type": "markdown",
   "id": "5d52651a",
   "metadata": {},
   "source": [
    "Q21 Write a code that takes two tuples as input and returns a new tuple containing elements that are\n",
    "common to both input tuples"
   ]
  },
  {
   "cell_type": "code",
   "execution_count": 27,
   "id": "a3f6ab61",
   "metadata": {},
   "outputs": [
    {
     "name": "stdout",
     "output_type": "stream",
     "text": [
      "Common elements tuple: (4, 5, 6)\n"
     ]
    }
   ],
   "source": [
    "def tuple_intersection(tuple1, tuple2):\n",
    "    \"\"\"Find common elements between two tuples and return as a new tuple.\"\"\"\n",
    "    return tuple(set(tuple1) & set(tuple2))\n",
    "\n",
    "# Example usage\n",
    "tuple1 = (1, 2, 3, 4, 5, 6)\n",
    "tuple2 = (4, 5, 6, 7, 8, 9)\n",
    "\n",
    "# Get common elements\n",
    "result = tuple_intersection(tuple1, tuple2)\n",
    "\n",
    "# Print the result\n",
    "print(\"Common elements tuple:\", result)\n"
   ]
  },
  {
   "cell_type": "markdown",
   "id": "e956ce52",
   "metadata": {},
   "source": [
    "Q22 Create a code that prompts the user to enter two sets of integers separated by commas. Then, print the\n",
    "intersection of these two sets"
   ]
  },
  {
   "cell_type": "code",
   "execution_count": 31,
   "id": "bc67833f",
   "metadata": {},
   "outputs": [
    {
     "name": "stdout",
     "output_type": "stream",
     "text": [
      "Enter the first set of integers (comma-separated): 1,2,3\n",
      "Enter the second set of integers (comma-separated): 4,5,6\n",
      "Intersection of sets: set()\n"
     ]
    }
   ],
   "source": [
    "def get_set_from_input(prompt):\n",
    "    \"\"\"Prompts the user for input and converts it into a set of integers.\"\"\"\n",
    "    return set(map(int, input(prompt).split(',')))\n",
    "\n",
    "# Get user input for two sets\n",
    "set1 = get_set_from_input(\"Enter the first set of integers (comma-separated): \")\n",
    "set2 = get_set_from_input(\"Enter the second set of integers (comma-separated): \")\n",
    "\n",
    "# Find intersection\n",
    "intersection_set = set1 & set2\n",
    "\n",
    "# Print the result\n",
    "print(\"Intersection of sets:\", intersection_set)\n"
   ]
  },
  {
   "cell_type": "markdown",
   "id": "a081f6fe",
   "metadata": {},
   "source": [
    "Q23 Write a code to concatenate two tuples. The function should take two tuples as input and return a new\n",
    "tuple containing elements from both input tuples"
   ]
  },
  {
   "cell_type": "code",
   "execution_count": 32,
   "id": "9589e033",
   "metadata": {},
   "outputs": [
    {
     "name": "stdout",
     "output_type": "stream",
     "text": [
      "Concatenated Tuple: (1, 2, 3, 4, 5, 6)\n"
     ]
    }
   ],
   "source": [
    "def concatenate_tuples(tuple1, tuple2):\n",
    "    \"\"\"Concatenates two tuples and returns a new tuple.\"\"\"\n",
    "    return tuple1 + tuple2  # Using + operator to concatenate tuples\n",
    "\n",
    "# Example usage\n",
    "tuple1 = (1, 2, 3)\n",
    "tuple2 = (4, 5, 6)\n",
    "\n",
    "# Get concatenated tuple\n",
    "result = concatenate_tuples(tuple1, tuple2)\n",
    "\n",
    "# Print the result\n",
    "print(\"Concatenated Tuple:\", result)\n"
   ]
  },
  {
   "cell_type": "markdown",
   "id": "75bc8310",
   "metadata": {},
   "source": [
    "Q24 Develop a code that prompts the user to input two sets of strings. Then, print the elements that are\n",
    "present in the first set but not in the second set"
   ]
  },
  {
   "cell_type": "code",
   "execution_count": 33,
   "id": "8f5be15d",
   "metadata": {},
   "outputs": [
    {
     "name": "stdout",
     "output_type": "stream",
     "text": [
      "Enter the first set of strings (comma-separated): apple,banana,orange,grape\n",
      "Enter the second set of strings (comma-separated): banana,grape,watermelon\n",
      "Elements in the first set but not in the second set: {'apple', 'orange'}\n"
     ]
    }
   ],
   "source": [
    "def get_set_from_input(prompt):\n",
    "    \"\"\"Prompts the user for input and converts it into a set of strings.\"\"\"\n",
    "    return set(input(prompt).split(','))\n",
    "\n",
    "# Get user input for two sets\n",
    "set1 = get_set_from_input(\"Enter the first set of strings (comma-separated): \")\n",
    "set2 = get_set_from_input(\"Enter the second set of strings (comma-separated): \")\n",
    "\n",
    "# Find elements present in set1 but not in set2\n",
    "difference_set = set1 - set2  # Using set difference operator '-'\n",
    "\n",
    "# Print the result\n",
    "print(\"Elements in the first set but not in the second set:\", difference_set)\n"
   ]
  },
  {
   "cell_type": "markdown",
   "id": "4a23e959",
   "metadata": {},
   "source": [
    "Q25 Create a code that takes a tuple and two integers as input. The function should return a new tuple\n",
    "containing elements from the original tuple within the specified range of indices"
   ]
  },
  {
   "cell_type": "code",
   "execution_count": 34,
   "id": "e66b7779",
   "metadata": {},
   "outputs": [
    {
     "name": "stdout",
     "output_type": "stream",
     "text": [
      "Enter the start index: 2\n",
      "Enter the end index: 5\n",
      "Sliced Tuple: (30, 40, 50)\n"
     ]
    }
   ],
   "source": [
    "def slice_tuple(original_tuple, start_index, end_index):\n",
    "    \"\"\"Returns a new tuple containing elements from the original tuple within the specified index range.\"\"\"\n",
    "    return original_tuple[start_index:end_index]\n",
    "\n",
    "# Example usage\n",
    "tuple1 = (10, 20, 30, 40, 50, 60, 70, 80)\n",
    "\n",
    "# Taking input from the user\n",
    "start = int(input(\"Enter the start index: \"))\n",
    "end = int(input(\"Enter the end index: \"))\n",
    "\n",
    "# Get the sliced tuple\n",
    "result = slice_tuple(tuple1, start, end)\n",
    "\n",
    "# Print the result\n",
    "print(\"Sliced Tuple:\", result)\n"
   ]
  },
  {
   "cell_type": "markdown",
   "id": "96049b1f",
   "metadata": {},
   "source": [
    "Q26 Write a code that prompts the user to input two sets of characters. Then, print the union of these two sets"
   ]
  },
  {
   "cell_type": "code",
   "execution_count": 35,
   "id": "00d1753e",
   "metadata": {},
   "outputs": [
    {
     "name": "stdout",
     "output_type": "stream",
     "text": [
      "Enter the first set of characters (comma-separated): a,b,c,d\n",
      "Enter the second set of characters (comma-separated): c,d,e,f\n",
      "Union of sets: {'b', 'e', 'd', 'c', 'a', 'f'}\n"
     ]
    }
   ],
   "source": [
    "def get_set_from_input(prompt):\n",
    "    \"\"\"Prompts the user for input and converts it into a set of characters.\"\"\"\n",
    "    return set(input(prompt).replace(\" \", \"\").split(','))  # Removing spaces and splitting by comma\n",
    "\n",
    "# Get user input for two sets\n",
    "set1 = get_set_from_input(\"Enter the first set of characters (comma-separated): \")\n",
    "set2 = get_set_from_input(\"Enter the second set of characters (comma-separated): \")\n",
    "\n",
    "# Find union of both sets\n",
    "union_set = set1 | set2  # Using set union operator '|'\n",
    "\n",
    "# Print the result\n",
    "print(\"Union of sets:\", union_set)\n"
   ]
  },
  {
   "cell_type": "markdown",
   "id": "8c552919",
   "metadata": {},
   "source": [
    "Q27 Develop a code that takes a tuple of integers as input. The function should return the maximum and\n",
    "minimum values from the tuple using tuple unpacking"
   ]
  },
  {
   "cell_type": "code",
   "execution_count": 36,
   "id": "9889de3a",
   "metadata": {},
   "outputs": [
    {
     "name": "stdout",
     "output_type": "stream",
     "text": [
      "Minimum value: 5\n",
      "Maximum value: 30\n"
     ]
    }
   ],
   "source": [
    "def find_min_max(numbers):\n",
    "    \"\"\"Returns the minimum and maximum values from a tuple using tuple unpacking.\"\"\"\n",
    "    min_val, max_val = min(numbers), max(numbers)  # Finding min and max\n",
    "    return min_val, max_val  # Returning as a tuple\n",
    "\n",
    "# Example usage\n",
    "tuple1 = (10, 20, 5, 30, 25, 15)\n",
    "\n",
    "# Get min and max values using tuple unpacking\n",
    "min_value, max_value = find_min_max(tuple1)\n",
    "\n",
    "# Print the result\n",
    "print(\"Minimum value:\", min_value)\n",
    "print(\"Maximum value:\", max_value)\n"
   ]
  },
  {
   "cell_type": "markdown",
   "id": "ef5e6c02",
   "metadata": {},
   "source": [
    "Q28 Create a code that defines two sets of integers. Then, print the union, intersection, and difference of these\n",
    "two sets"
   ]
  },
  {
   "cell_type": "code",
   "execution_count": 37,
   "id": "407266f0",
   "metadata": {},
   "outputs": [
    {
     "name": "stdout",
     "output_type": "stream",
     "text": [
      "Set 1: {1, 2, 3, 4, 5}\n",
      "Set 2: {4, 5, 6, 7, 8}\n",
      "Union: {1, 2, 3, 4, 5, 6, 7, 8}\n",
      "Intersection: {4, 5}\n",
      "Difference (Set1 - Set2): {1, 2, 3}\n"
     ]
    }
   ],
   "source": [
    "# Define two sets of integers\n",
    "set1 = {1, 2, 3, 4, 5}\n",
    "set2 = {4, 5, 6, 7, 8}\n",
    "\n",
    "# Compute union, intersection, and difference\n",
    "union_set = set1 | set2  # Union using '|'\n",
    "intersection_set = set1 & set2  # Intersection using '&'\n",
    "difference_set = set1 - set2  # Difference (elements in set1 but not in set2)\n",
    "\n",
    "# Print the results\n",
    "print(\"Set 1:\", set1)\n",
    "print(\"Set 2:\", set2)\n",
    "print(\"Union:\", union_set)\n",
    "print(\"Intersection:\", intersection_set)\n",
    "print(\"Difference (Set1 - Set2):\", difference_set)\n"
   ]
  },
  {
   "cell_type": "markdown",
   "id": "3c06b806",
   "metadata": {},
   "source": [
    "Q29 Write a code that takes a tuple and an element as input. The function should return the count of\n",
    "occurrences of the given element in the tuple"
   ]
  },
  {
   "cell_type": "code",
   "execution_count": 38,
   "id": "16ee84c4",
   "metadata": {},
   "outputs": [
    {
     "name": "stdout",
     "output_type": "stream",
     "text": [
      "Enter the element to count: 10\n",
      "The element 10 occurs 3 time(s) in the tuple.\n"
     ]
    }
   ],
   "source": [
    "def count_occurrences(input_tuple, element):\n",
    "    \"\"\"Returns the count of occurrences of the given element in the tuple.\"\"\"\n",
    "    return input_tuple.count(element)  # Using tuple's built-in count() method\n",
    "\n",
    "# Example usage\n",
    "tuple1 = (10, 20, 30, 10, 40, 10, 50)\n",
    "\n",
    "# Take user input for the element to count\n",
    "element_to_count = int(input(\"Enter the element to count: \"))\n",
    "\n",
    "# Get the count of occurrences\n",
    "count = count_occurrences(tuple1, element_to_count)\n",
    "\n",
    "# Print the result\n",
    "print(f\"The element {element_to_count} occurs {count} time(s) in the tuple.\")\n"
   ]
  },
  {
   "cell_type": "markdown",
   "id": "d867ebf5",
   "metadata": {},
   "source": [
    "Q30 Develop a code that prompts the user to input two sets of strings. Then, print the symmetric difference of\n",
    "these two sets"
   ]
  },
  {
   "cell_type": "code",
   "execution_count": 40,
   "id": "ec4c82e6",
   "metadata": {},
   "outputs": [
    {
     "name": "stdout",
     "output_type": "stream",
     "text": [
      "Enter the first set of strings (comma-separated): cat,dog,rabbit\n",
      "Enter the second set of strings (comma-separated): tiger,lion,elephant\n",
      "Symmetric Difference: {'dog', 'cat', 'elephant', 'lion', 'tiger', 'rabbit'}\n"
     ]
    }
   ],
   "source": [
    "def get_set_from_input(prompt):\n",
    "    \"\"\"Prompts the user for input and converts it into a set of strings.\"\"\"\n",
    "    return set(input(prompt).replace(\" \", \"\").split(','))  # Removing spaces and splitting by comma\n",
    "\n",
    "# Get user input for two sets\n",
    "set1 = get_set_from_input(\"Enter the first set of strings (comma-separated): \")\n",
    "set2 = get_set_from_input(\"Enter the second set of strings (comma-separated): \")\n",
    "\n",
    "# Compute the symmetric difference\n",
    "symmetric_diff = set1 ^ set2  # Using '^' operator for symmetric difference\n",
    "\n",
    "# Print the result\n",
    "print(\"Symmetric Difference:\", symmetric_diff)\n"
   ]
  },
  {
   "cell_type": "markdown",
   "id": "0dddd10a",
   "metadata": {},
   "source": [
    "Q31 Write a code that takes a list of words as input and returns a dictionary where the keys are unique words\n",
    "and the values are the frequencies of those words in the input list"
   ]
  },
  {
   "cell_type": "code",
   "execution_count": 44,
   "id": "912a81e6",
   "metadata": {},
   "outputs": [
    {
     "name": "stdout",
     "output_type": "stream",
     "text": [
      "Enter words separated by spaces: apple banana apple grape banana apple\n",
      "Word Frequency Dictionary: {'apple': 3, 'banana': 2, 'grape': 1}\n"
     ]
    }
   ],
   "source": [
    "def count_word_frequencies(word_list):\n",
    "    \"\"\"Returns a dictionary with unique words as keys and their frequencies as values.\"\"\"\n",
    "    word_freq = {}  # Initialize an empty dictionary\n",
    "\n",
    "    for word in word_list:\n",
    "        word_freq[word] = word_freq.get(word, 0) + 1  # Increment word count\n",
    "\n",
    "    return word_freq  # Return the dictionary\n",
    "\n",
    "# Example usage\n",
    "words = input(\"Enter words separated by spaces: \").split()  # Take input and split into a list\n",
    "\n",
    "# Get the frequency dictionary\n",
    "word_count_dict = count_word_frequencies(words)\n",
    "\n",
    "# Print the result\n",
    "print(\"Word Frequency Dictionary:\", word_count_dict)\n"
   ]
  },
  {
   "cell_type": "markdown",
   "id": "234379ff",
   "metadata": {},
   "source": [
    "Q32 Write a code that takes two dictionaries as input and merges them into a single dictionary. If there are\n",
    "common keys, the values should be added together"
   ]
  },
  {
   "cell_type": "code",
   "execution_count": 45,
   "id": "8b0e68f8",
   "metadata": {},
   "outputs": [
    {
     "name": "stdout",
     "output_type": "stream",
     "text": [
      "Merged Dictionary: {'a': 10, 'b': 25, 'c': 45, 'd': 40}\n"
     ]
    }
   ],
   "source": [
    "def merge_dictionaries(dict1, dict2):\n",
    "    \"\"\"Merges two dictionaries and adds values for common keys.\"\"\"\n",
    "    merged_dict = dict1.copy()  # Create a copy of dict1 to avoid modifying it\n",
    "\n",
    "    for key, value in dict2.items():\n",
    "        if key in merged_dict:\n",
    "            merged_dict[key] += value  # Add values for common keys\n",
    "        else:\n",
    "            merged_dict[key] = value  # Add new key-value pairs\n",
    "\n",
    "    return merged_dict  # Return the merged dictionary\n",
    "\n",
    "# Example dictionaries\n",
    "dict1 = {'a': 10, 'b': 20, 'c': 30}\n",
    "dict2 = {'b': 5, 'c': 15, 'd': 40}\n",
    "\n",
    "# Merge dictionaries\n",
    "merged_dict = merge_dictionaries(dict1, dict2)\n",
    "\n",
    "# Print the result\n",
    "print(\"Merged Dictionary:\", merged_dict)\n"
   ]
  },
  {
   "cell_type": "markdown",
   "id": "54ac7518",
   "metadata": {},
   "source": [
    "Q33 Write a code to access a value in a nested dictionary. The function should take the dictionary and a list of\n",
    "keys as input, and return the corresponding value. If any of the keys do not exist in the dictionary, the\n",
    "function should return None"
   ]
  },
  {
   "cell_type": "code",
   "execution_count": 47,
   "id": "c8f4de2c",
   "metadata": {},
   "outputs": [
    {
     "name": "stdout",
     "output_type": "stream",
     "text": [
      "Value: 42\n",
      "Value: 99\n",
      "Value: None\n",
      "Value: {'b': {'c': 42}}\n",
      "Value: {'z': 99}\n"
     ]
    }
   ],
   "source": [
    "def get_nested_value(nested_dict, keys):\n",
    "    \"\"\"Returns the value from a nested dictionary using a list of keys. \n",
    "       Returns None if any key is missing.\"\"\"\n",
    "    current = nested_dict  # Start from the top-level dictionary\n",
    "\n",
    "    for key in keys:\n",
    "        if isinstance(current, dict) and key in current:\n",
    "            current = current[key]  # Move deeper into the dictionary\n",
    "        else:\n",
    "            return None  # Return None if key is missing\n",
    "\n",
    "    return current  # Return the final value found\n",
    "\n",
    "# Example nested dictionary\n",
    "nested_dict = {\n",
    "    'a': {\n",
    "        'b': {\n",
    "            'c': 42\n",
    "        }\n",
    "    },\n",
    "    'x': {\n",
    "        'y': {\n",
    "            'z': 99\n",
    "        }\n",
    "    }\n",
    "}\n",
    "\n",
    "# Example cases\n",
    "keys1 = ['a', 'b', 'c']\n",
    "keys2 = ['x', 'y', 'z']\n",
    "keys3 = ['a', 'b', 'd']  # Key 'd' does not exist\n",
    "keys4 = ['a']  # Returns the sub-dictionary under 'a'\n",
    "keys5 = ['x', 'y']  # Returns the sub-dictionary under 'y'\n",
    "\n",
    "print(\"Value:\", get_nested_value(nested_dict, keys1))  # Output: 42\n",
    "print(\"Value:\", get_nested_value(nested_dict, keys2))  # Output: 99\n",
    "print(\"Value:\", get_nested_value(nested_dict, keys3))  # Output: None\n",
    "print(\"Value:\", get_nested_value(nested_dict, keys4))  # Output: {'b': {'c': 42}}\n",
    "print(\"Value:\", get_nested_value(nested_dict, keys5))  # Output: {'z': 99}\n"
   ]
  },
  {
   "cell_type": "markdown",
   "id": "42a95f1f",
   "metadata": {},
   "source": [
    "Q34 Write a code that takes a dictionary as input and returns a sorted version of it based on the values. You\n",
    "can choose whether to sort in ascending or descending order"
   ]
  },
  {
   "cell_type": "code",
   "execution_count": 48,
   "id": "9566eec8",
   "metadata": {},
   "outputs": [
    {
     "name": "stdout",
     "output_type": "stream",
     "text": [
      "Ascending Order: {'banana': 1, 'cherry': 2, 'apple': 3, 'date': 5}\n",
      "Descending Order: {'date': 5, 'apple': 3, 'cherry': 2, 'banana': 1}\n"
     ]
    }
   ],
   "source": [
    "def sort_dict_by_value(input_dict, ascending=True):\n",
    "    \"\"\"Returns a dictionary sorted by values in ascending or descending order.\"\"\"\n",
    "    sorted_items = sorted(input_dict.items(), key=lambda x: x[1], reverse=not ascending)\n",
    "    return dict(sorted_items)  # Convert sorted list back to a dictionary\n",
    "\n",
    "# Example dictionary\n",
    "data = {'apple': 3, 'banana': 1, 'cherry': 2, 'date': 5}\n",
    "\n",
    "# Sorting in ascending order\n",
    "ascending_sorted = sort_dict_by_value(data, ascending=True)\n",
    "print(\"Ascending Order:\", ascending_sorted)\n",
    "\n",
    "# Sorting in descending order\n",
    "descending_sorted = sort_dict_by_value(data, ascending=False)\n",
    "print(\"Descending Order:\", descending_sorted)\n"
   ]
  },
  {
   "cell_type": "markdown",
   "id": "f95285aa",
   "metadata": {},
   "source": [
    "Q35 Write a code that inverts a dictionary, swapping keys and values. Ensure that the inverted dictionary\n",
    "correctly handles cases where multiple keys have the same value by storing the keys as a list in the\n",
    "inverted dictionary"
   ]
  },
  {
   "cell_type": "code",
   "execution_count": 49,
   "id": "e1452ede",
   "metadata": {},
   "outputs": [
    {
     "name": "stdout",
     "output_type": "stream",
     "text": [
      "Inverted Dictionary: {1: ['apple', 'cherry'], 2: ['banana', 'elderberry'], 3: ['date']}\n"
     ]
    }
   ],
   "source": [
    "def invert_dictionary(input_dict):\n",
    "    \"\"\"Inverts a dictionary, storing multiple keys with the same value as a list.\"\"\"\n",
    "    inverted_dict = {}\n",
    "\n",
    "    for key, value in input_dict.items():\n",
    "        if value in inverted_dict:\n",
    "            inverted_dict[value].append(key)  # Append key to existing list\n",
    "        else:\n",
    "            inverted_dict[value] = [key]  # Create a new list with the key\n",
    "\n",
    "    return inverted_dict\n",
    "\n",
    "# Example dictionary\n",
    "data = {'apple': 1, 'banana': 2, 'cherry': 1, 'date': 3, 'elderberry': 2}\n",
    "\n",
    "# Invert dictionary\n",
    "inverted = invert_dictionary(data)\n",
    "\n",
    "# Print the result\n",
    "print(\"Inverted Dictionary:\", inverted)\n"
   ]
  },
  {
   "cell_type": "code",
   "execution_count": null,
   "id": "aa163d3d",
   "metadata": {},
   "outputs": [],
   "source": []
  }
 ],
 "metadata": {
  "kernelspec": {
   "display_name": "Python 3 (ipykernel)",
   "language": "python",
   "name": "python3"
  },
  "language_info": {
   "codemirror_mode": {
    "name": "ipython",
    "version": 3
   },
   "file_extension": ".py",
   "mimetype": "text/x-python",
   "name": "python",
   "nbconvert_exporter": "python",
   "pygments_lexer": "ipython3",
   "version": "3.11.5"
  }
 },
 "nbformat": 4,
 "nbformat_minor": 5
}
